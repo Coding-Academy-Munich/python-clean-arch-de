{
 "cells": [
  {
   "cell_type": "markdown",
   "id": "92ffc8fbabdb0772",
   "metadata": {
    "lang": "de",
    "slideshow": {
     "slide_type": "slide"
    },
    "tags": [
     "slide"
    ]
   },
   "source": [
    "\n",
    "<img src=\"data:image/png;base64,iVBORw0KGgoAAAANSUhEUgAAAG8AAABuCAYAAAApmU3FAAAEtmlUWHRYTUw6Y29tLmFkb2JlLnht\n",
    "cAAAAAAAPD94cGFja2V0IGJlZ2luPSLvu78iIGlkPSJXNU0wTXBDZWhpSHpyZVN6TlRjemtjOWQi\n",
    "Pz4KPHg6eG1wbWV0YSB4bWxuczp4PSJhZG9iZTpuczptZXRhLyIgeDp4bXB0az0iWE1QIENvcmUg\n",
    "NS41LjAiPgogPHJkZjpSREYgeG1sbnM6cmRmPSJodHRwOi8vd3d3LnczLm9yZy8xOTk5LzAyLzIy\n",
    "LXJkZi1zeW50YXgtbnMjIj4KICA8cmRmOkRlc2NyaXB0aW9uIHJkZjphYm91dD0iIgogICAgeG1s\n",
    "bnM6ZXhpZj0iaHR0cDovL25zLmFkb2JlLmNvbS9leGlmLzEuMC8iCiAgICB4bWxuczp0aWZmPSJo\n",
    "dHRwOi8vbnMuYWRvYmUuY29tL3RpZmYvMS4wLyIKICAgIHhtbG5zOnBob3Rvc2hvcD0iaHR0cDov\n",
    "L25zLmFkb2JlLmNvbS9waG90b3Nob3AvMS4wLyIKICAgIHhtbG5zOnhtcD0iaHR0cDovL25zLmFk\n",
    "b2JlLmNvbS94YXAvMS4wLyIKICAgIHhtbG5zOnhtcE1NPSJodHRwOi8vbnMuYWRvYmUuY29tL3hh\n",
    "cC8xLjAvbW0vIgogICAgeG1sbnM6c3RFdnQ9Imh0dHA6Ly9ucy5hZG9iZS5jb20veGFwLzEuMC9z\n",
    "VHlwZS9SZXNvdXJjZUV2ZW50IyIKICAgZXhpZjpQaXhlbFhEaW1lbnNpb249IjExMSIKICAgZXhp\n",
    "ZjpQaXhlbFlEaW1lbnNpb249IjExMCIKICAgZXhpZjpDb2xvclNwYWNlPSIxIgogICB0aWZmOklt\n",
    "YWdlV2lkdGg9IjExMSIKICAgdGlmZjpJbWFnZUxlbmd0aD0iMTEwIgogICB0aWZmOlJlc29sdXRp\n",
    "b25Vbml0PSIyIgogICB0aWZmOlhSZXNvbHV0aW9uPSI3Mi4wIgogICB0aWZmOllSZXNvbHV0aW9u\n",
    "PSI3Mi4wIgogICBwaG90b3Nob3A6Q29sb3JNb2RlPSIzIgogICBwaG90b3Nob3A6SUNDUHJvZmls\n",
    "ZT0ic1JHQiBJRUM2MTk2Ni0yLjEiCiAgIHhtcDpNb2RpZnlEYXRlPSIyMDIwLTAyLTEzVDE2OjQ4\n",
    "OjM2KzAxOjAwIgogICB4bXA6TWV0YWRhdGFEYXRlPSIyMDIwLTAyLTEzVDE2OjQ4OjM2KzAxOjAw\n",
    "Ij4KICAgPHhtcE1NOkhpc3Rvcnk+CiAgICA8cmRmOlNlcT4KICAgICA8cmRmOmxpCiAgICAgIHN0\n",
    "RXZ0OmFjdGlvbj0icHJvZHVjZWQiCiAgICAgIHN0RXZ0OnNvZnR3YXJlQWdlbnQ9IkFmZmluaXR5\n",
    "IERlc2lnbmVyIDEuNy4zIgogICAgICBzdEV2dDp3aGVuPSIyMDIwLTAyLTEzVDE2OjQ4OjM2KzAx\n",
    "OjAwIi8+CiAgICA8L3JkZjpTZXE+CiAgIDwveG1wTU06SGlzdG9yeT4KICA8L3JkZjpEZXNjcmlw\n",
    "dGlvbj4KIDwvcmRmOlJERj4KPC94OnhtcG1ldGE+Cjw/eHBhY2tldCBlbmQ9InIiPz63ZYCCAAAB\n",
    "gWlDQ1BzUkdCIElFQzYxOTY2LTIuMQAAKJF1kc8rRFEUxz9miDCNYmFh8dKwQoMSG4uZ/Cosxii/\n",
    "Nm+eeTNq3szrvZk02SpbRYmNXwv+ArbKWikiJSsLa2KDnvM8NZI5t3PP537vPad7zwVfPKMZdmUY\n",
    "jGzeio1ElJnZOaX6ER8BgoQJqJptTkwNxylrbzdUuPGq061V/ty/VreYtDWoqBEe1EwrLzwqPL6c\n",
    "N13eFG7S0uqi8LFwhyUXFL529YTHTy6nPP5w2YrHouBrEFZSvzjxi7W0ZQjLywkZmYL2cx/3JfXJ\n",
    "7PSUxFbxFmxijBBBYYwhovTRzYDMfXTSQ5esKJMf/s6fJCe5mswmRSyWSJEmT4eoBamelKiLnpSR\n",
    "oej2/29fbb23x6teH4GqB8d5aYPqDfhcd5z3fcf5PAD/PZxlS/m5Peh/FX29pIV2IbgKJ+clLbEF\n",
    "p2vQfGeqlvot+cV9ug7PRxCYhcZLqJ33evazz+EtxFfkqy5gewfa5Xxw4QtXymffaj9hFAAAAAlw\n",
    "SFlzAAALEwAACxMBAJqcGAAAIABJREFUeJzlfXu0b1V13jfX/l2UkAAXiq/EWkg0RqUaBO5BEB+A\n",
    "WKtG6qtWeZnRtCYmgThUvJfRdDQOBAtc2mSEGJuhJn2oNcPwGFZSgmmAG84JAgKS4QPIQ2OVIgIR\n",
    "kbP3mv1jrW+ub+177uUROIfENca5557923vttefzm4+1f4a/R2PpfX+wCfB/6o4XmuHpDuwDYG94\n",
    "3gfue8PSPoDXY74PAAPsO4DfBeAuuH8HwF0wuwue7wLwHbjfCUvXA37j8gfflDfy+R7usI1ewK7G\n",
    "0taLDDYcDM+HAX4oYIcC+WA4ngAA7hPMBgAOdwBe6W78fwLgdTYHcgZMH9fkcwDu9wC+A+5XAX4l\n",
    "HCvL5/2r+x/r5/y7jMcd85a2XbwZ7qcC+LcAngnPgA0AMjxnmBWmuDvgXp7AEpAn8HEsJXge42+4\n",
    "F4bWa8v59XOzem0dZuV4Hh+ApRUAvwXg48vnvkVOenyMxw3zlrZd/NNw/BLS8GZ43hNAIao1BrhP\n",
    "hfAuGgPv/7bUtJDHybjQSqsM9TI/f8OLMpoV5lpo71fhfjaA310+762rjx0VHt7YcOYtbb14APw/\n",
    "AHYG4Ina4NMIS9Q4B+AwS4WBYRKt0p4MyeUnLapmoTGHn9NUUlvNeoZ3x0RjPQPufwXg/cvnv+3D\n",
    "60qkXYwNZd7Stkuejjz9D6ThyJD+PAFpCLPmnmFpUc1gHe5ACoIKgyB/k1FJTKM3xtJ02tBrKjUw\n",
    "tDNXjfV2rk8fhg0/v3z+22RR6z82jHlL2y55CoDrAH8qcg/y3Au4MBt2YlrxZ5XBXnygT+MMjPjO\n",
    "ZnH+GdD8GzXWrAKbVE8VkFNQEYJkZp+F+xuXz3/b3z5qRHmYY0OYt7T1ogFp+CPk6SWFeFMjWIwC\n",
    "Skx8XPkbDazU84KwlprWzU1lZxpz0dz4HLO50LRVGRpgZrX8TmkF03Tk8gUnb4gGzim2PsPSL8Hz\n",
    "S4pvQTFl1gjpOQOwWw32e3D/IOB/6PD7GuKk9Nd/lPHho1zCh6F95t4+h/faFXPItY6i5TzXpzKf\n",
    "GTCtHg7kdz0WJHooY4M07+IvwfCsnTSgEPT7gJ0J+PnXfOCEUIstZ/z+QfD8EcCODlNIwpMRadH+\n",
    "n6uvUpNM9NihTAkbwr+hHR8W5bjOE/cbAM/fA9LBy9tPvPWxp1w/1l3zls689KcAPKuBAxS/FmbQ\n",
    "zrjmA687VxkHAMtnv/42IP0zAF+J2DotGrRPi+a7GL8V0ybocaomcyi/PUtIgP4ar2FdzsA0NoZb\n",
    "qnOGOd8Tnn/lMSTZLsf6m808Pa1QvHIgZ1g1AA6/BZb+064uXT7n9ffB/Vfi+jw1rXA035THerwy\n",
    "K5AoKuMkflQtpp9k0E4/aalqoBemamhS5njto0ylhzTWn3nue9e0SDsEr+gyXXnNWa/1XV8MwOxK\n",
    "5MnDjwFNU+bprzTIMQ0hNPbj6akxK9bnTStpHQInTW2ePP7YltM++pOPiB5/h7H+zFNixqGB0P7r\n",
    "D3b58jlvuBuGv21xW2rapXDeJ0l7iX8LBlHbqKFjM5VqGTT/GdfIOQ3wbH5kBHnkYyM0L6TbyYD2\n",
    "4Qse7PIt7/mfB8GGHwngEUBCgErn9/gZ/5uFSWjnpEHSYdbmVpNr1pAnNd8oPHmvh0WHR2FsgOYl\n",
    "78ICAD6twvMq3P2YLe/91NN2P4Gf2IJqAQ5e0WZ3qve/89SHCpGoBpoPo7kU5jOjA2tpNxfGlucS\n",
    "O74+YwM0L7vnqeUjCenLUvaBpd9Zet+nn7DWpVve+6kluG9rlQY0eM+Umqmv85YWAyT1RWZULVNf\n",
    "F0E7E9XU6LGZyC75zZBk/YsOiwc/5VEelqqgGzyPsKH4O28EeKXDPr/lvZ86HcCO5XPe8N0t7/nk\n",
    "gYCfBPdtSMOmIKrGekDlUZ5pHHOSqiVDQ6oMDyLXSbSp9b6aI63rLxUOF3xkcKx/HXfdmec+eanM\n",
    "5JK7nCTOipPwXAB/CEt5y3s+eS8s7dOZyqzpNEkYIwMZDcQwpZXrZ/Rb02rVzkFCi6mFEWloZjUL\n",
    "uDEAuRy3xDiPHFz/fMeGABavIMMJ77uaGhoC9Jxqa0Pzb6yIa+qr0yoBIG0elOpCnZtZE0B8GEow\n",
    "DrRrVDOT3CeY5pJEX39Srvsdzcwh5ibCBE1XdflGia20YFoub+dS0wL+s56X+nlMtDLCCxEGZZiW\n",
    "hSRn6vF3ERCnP1znse7Mcy+9C5TUIEQgwrFnQjkLkdmofStdgB3aKNobGj37LO4nzCK6JIiJFFgV\n",
    "FmpdvcYkK2NpKBmieXJ7HcYGmM2pl9ZgkPgoVhriGgnC5y0Olsq10aOC5hej4sCAWq5vGeimpXls\n",
    "xVqGFU7EWgcjAiuFYneHw2vMur5jA0pC5s1PqUZQuxRF1thK+1aiilCD7TxJ2CDEZqI6j81carmo\n",
    "TIZoYAKkKmFtroj35uZVwQpm/1+fsQGhgt0F+EoLkGexVaC+DJiEBABCe9pkaFpnpUhqYu48HwBL\n",
    "B3btFWFGJTfJtczBEOF/lK5QUHIaaqhg1exjQ3zeujNv+ezX7wCwZT3uteVd//3nkFc/1CHNAC1j\n",
    "0zr1i+5NeCAJ7yo0BgNbED2P5TfyRijeBlXS12uwvcIgOc+ZSQaaKaU/Y1amlXzanEY5GMWkAj8Y\n",
    "ZnM9R2vZqwckrUWTnTMwbEIgWogZlbjOvSYVKsii6fRJTXU9/Uuv2gTg2e2AmHqa4HLsfqT0NfvJ\n",
    "z3zvkTzeI2be0taL/gmAFwD4EcD38pz3CB8QNbBqTtT5R85Q4qkOtksdTf2Ipq26Vr00+5znJ8Dz\n",
    "i5qpBKKaEAG/oEzXBHWZ130M80gNNjcgLcpzaryow+zpyPnGFn9KImKo2j1NwUS/5fhvYpo+gyH9\n",
    "N6T0OXv2Zx+SA31YzFvadslzkafTYDjO8/QMmDVj0bXIsebFzEaF85GqYkklz9oQagzHdJYy2q0x\n",
    "wazMC0k6M/Ofs/ipSoMk3oHCFOkzHuzDDc+rpVBAgJInwAWgUHNZlVBBIzN530kySWPtPOMYRwB4\n",
    "MobhVOR8Kgxf8FuO/1l7zmWffzB+PCTmLW296KcA/Cry+EZ3T5Y2ITqVE3srrVTEA9ExgwE0xqnk\n",
    "A/DKAEWTXe1NiqkkUszhHbEjRLCESDzrCHOVmxWIuayhyDzV7rRZ0M/1dTW/mWWY34u1Rs0WJUky\n",
    "hPmsP0Xgng9g2W865gKkdKY993/vcrPLgwKWpW2XnAazm+H+ZqRFsnkPiDNRO7RUF9vRI+huaC0W\n",
    "O60CzhhsjQxFxFGM8yDxWDU9adGIaJU48WQsrgoTtOJe40P2gFptKrKUyrF54G1SPO7mUZ/Ke6fW\n",
    "tMTPh6Ektdlvw2ec6ArQaJB9APAumH3Cbz52l3XC3TJvaetF5wDYDs8p6mXOHTq5Pmiu8HmqWZOp\n",
    "ma2utQBlkWmoi2fCl5IM0VhJWelxDs1fMl6DVWZWjexKPgI+wtQVs12sKBkx1tuKH2Uuk+uf+1lp\n",
    "pIoRjVAtPsS4Kv5fsMBClGGamvkv87wW7h/aFX/WNJtLWy9eAPnDMDslNElQGptenf6LD2KMjypx\n",
    "tR1PC6gBSKb2kNTSaSzoL1Jn1KxZlgVDIcA0NkKQwMEsxmqV4SRK5EfJoLKZxYZF067a09btTCKo\n",
    "0awQ5LY6VGiGoWlgqpYkz0KRaSqfASJ0BsB/1r/wsm/a8z+3bc6ntTXP0llAOqXFRnG8oLA8VdNS\n",
    "Vh3mJczpPL1Ua2eay9SgmAum1NHkkNH0ozQt0XPJuI0mVh6c9yUz6V+8AhptgIo8p7d1eC4+XEtO\n",
    "XaUjt7/Dt5Oq2maB8jyhmXIvjhAKNFNKC1TQ6lb/wste+qDMW9p26cHw6fQwWyGZU0VcxVx2N2cQ\n",
    "PG/0mZswhda6BYvt7juVdupc02qbs0tAo80BZaBIddTrhGA2NEJV0112IjUA07RNLEeUoxTQ9DFe\n",
    "WS/jxWo1hmrgOsBEoAVhNh8jiaYygZB+bbfMW9p2scHzhQAWXFTEbZVAJZMucVkEwd7MU0dINGaE\n",
    "mVMgUn0XyyoEHurjorIdpgTR/cw+mLgZeq1QjYxTKqGs7PcrlkRQL58nykv1+V3vMbVzZ7ucwqpM\n",
    "UzmdoYIKb3QQzEDPsEYpqtDiKL/5uFfuknlwfzs8H9mYUbuZxdwZWwd0oXyIIK7U4whcaMLU9HRz\n",
    "eDOjMZcjup6VgXwgvQcRZAT6aASJ0hAJS186iSZhdo6uR4QjGKv+G3IO+nZ4Pi5Nfao0YDVfa4cE\n",
    "LDxOS8C5p/H9azJvaetF+8HzOVGnmka0doXysNwPHg+VhjUemGiTU1szF3NU2ZlVl9jMW0tCwOc6\n",
    "r2p7hAre5gsi8wmHdj4tQzAacg1ijYY1BDJMKoShJmHL0Cbi/MmaeeZzMDTIUwUt1LihziXuIwlj\n",
    "i+97oX/hZSfsxDwAr0da7A+vm/bVRDWSCFDxtkitXishwyyuUadTgpJwFIaYYwZCyCyb/9Asz7Sb\n",
    "Bd9KYBZPkYYGGQQYmACyZjabiQ2hCCwgXdl5ujMIRUtBk06XQS0jIEvCKPrJCOyBTvsbuj1pDebZ\n",
    "axRVlcfPwazYE6caFLtW6cBpwggWZoleMoeL73wTmu0PM6rVcGEGGRuwXvxuWIYJGDbB81iSx1Uo\n",
    "zQzclWRm8Vw2LJRATUs7nyrWJExvmNK2xcvQC2wgXQfGSTatCA1oNlF9ZeVD0GQKIXmpX390itVs\n",
    "ed+n9wT8WBLLp7FpWP3tObfEcOcjKqHClXlPhDhXfGcSUxupJjEt4QuGZi41YzNvoaD5oykXrbe0\n",
    "6PKv7r2AEJC1JAN9GgVKgImJC6BFKWu6a+U3f+HuYJ7jhxroIAPQJ+qDJmjAJqWegdPUBIfmMw37\n",
    "AnaIitIxAPYMems3sRJZQYQGw47mo8BFUmMk2CYzuz0ALueiI3znc9RfMfaKdjxv6xO/2e2FMPRz\n",
    "1vCnnKoMErChg3Nr7MvKhPtt/cnYjNnlSAnYJD6a9NAYOdamzEqx3qAP8HKgMe81ZS0JDm/pIfqP\n",
    "eWNsgAPmLtE+VyDCDAcJQyIGQqsPEYlqMUXA7CFl9yofQs1y+EoLKbeaj6Rv8067lbo0+anN26Fe\n",
    "yO96r7SogGIA4F/pGOX5yQ0zoAnjRDch1omt+cMafaH8m0E7Ndi9MG9p60UGz6/2PNYgvEqsEpSp\n",
    "LDJTt0JRGud+kAuIWlldTCR1yUlv53BOoAGhPJZjBACRlSdjUyM2rwPi/OLnNOCmkJBpMxVRJmpI\n",
    "MNV10OfHtjAHHB/tJ7FDIpaLa9GupwmdRrFimIVD4mLCDdWflI7y64/elAAcbGnT07pMAaVOW73Z\n",
    "EtehTTWHEJ8DMWEm51eNC5RIAqqJFOK6EI+f5zESyEHI3cRlDMDL+1x0syUagTSeUs1IA0pTkyLa\n",
    "qlFtrdevXPgLl80E4NAODSexPjS7QwVvAzu7s1gSQdFAu74h2L3gfngC8AyP+MmDwxEuKEgwiZnI\n",
    "oFhY7n9Dru2y8MLIebqL85LIEdPVefOIYqqHnshdeGJ9bFeRqWkIQI2nCeR6w0QrwJgxrSsLATA7\n",
    "u+PbLcfvA7MXt8Ba/CkZMQzSWs+YlWkwEX5eT6aPYwM9ln5iAfcnGayP39Ls5TV8OB8BWwBWzUaH\n",
    "nOjkO6kUTSDQQBAUruhtQlTd1ZSF7xDtjHQa47oGcFwyQy6C4socCkggOfU3uS8ok9nRgsF1AnC/\n",
    "Co5PdWTK+U0wPHEnwEJGKWPU6hDkaSot3mihvjeu2y+55wN6U5b6XJ0iHfo++sQOneXGJI3/mAmx\n",
    "AQ3V5fZDn8bqt27yiLixmkma6nnch5pvZes56muvQivFZ3DNaiki1qoE5prYOa2Zm2YlbgDw6pUL\n",
    "3ynEAmB2SnM3aDSdB9vamhHgSxirrznRYyzowvZPgD/JmeDtHnbmz8qCZwxV/8HfDGylKKsxEc3g\n",
    "fN4u3yemMF4nlXsiaPAPlEqH50qvYq7DelDbg2FTM8XhRyqj0tBnepJaAoIGfBnA8SsXvrPFdgD8\n",
    "pmNOgOFFYDhkQhemuvi8I4W2Mneeu233apoIIbn7fgnuB4APTM1R6Qy4LhNxMRGDCfoLPyPMzFPf\n",
    "rxEmgMldQaJdloMIsoYc1VRHpcPLG5FomlvFm+ZbQBj3IYRGpGYeO8FySV/NUnSwDPffgOfDVi58\n",
    "57c6xt1y/N5I6deDaewYMDT/FiBQ6McffemPXk9hXXDtwdj9F7DhgCKxRIaE/VRXJaS3vF0XB1VH\n",
    "qy8oXdPUKKiRRQdA8fbAZs2UpiTINcGqz/W4m9ellDY9r1UNs6H4QEW1FJBAyxA0twnRbq9pwPJW\n",
    "ps/B/d+tXPjOP8NaI+f/iGQ/iuw1IS0WbBiKpnVIl5ZlRKcsVgVrHAvDXOitRemU9l8grz6ptB2o\n",
    "TxATGnvGrRJWu4plIT5jfqOsCINoH48HoYTp80KofqadyqGB3PJn3Y8Hg6g9VZvYHjgfLn7H7Btw\n",
    "fAbApUC6fOXCd6z5dj//4nEJjv8M+M9h8mak4vmtCUxknKgIEkrlXJjOdghqIbCz0PsEjHm/BVLR\n",
    "vI6ovtODtGNm4NbeLh5TbmlGJgCQmGMtnoapSwCQYelr8PwXgN0Oz7fD7K8Af6CthUAJMNkn7gGk\n",
    "ir+1oXaGdY7HKbVNSLUoCn8ANvw/AN8A8KWV3/z5uXeeMe4VewD4r0h4Y6EJetPfIdrUEOQglksz\n",
    "TzTnzG+yd5XghY26AJBs/wXcD2iV4txu0nG6SvicYRFbAXBrksZrWVCcB9uxWJqA4Vb4tB2eP7p8\n",
    "wanf3R3BHg/Dv/iKAYZ/AeAMTNMhzS2gPN+waIzScABoTCATeYznpxqGgGCtCoFBqhEZsLRfeYWs\n",
    "2RNCAl1UOfyeMqT+bUCX0KW50tTaTv8XiSztENfBcBZ8+vTy9pN7yP04HP7F4/aCpVORp9PhdlAD\n",
    "EIqIKw0m8Z0BSmoBNlnNsFifOovwoTJ8IUKgKLT8f7GApW8jT3t1BVTaVUV+mrkgpI662moDFVrR\n",
    "ZjosNLf6xDwBw/AJ5Omk5e0nP7Bbgt36WoPj2UjpqQD+Edw3qa8Ln7xYAKurAqYaIu2C/m5y75+R\n",
    "xwAgT3vA7BmwdCA8HwjgQLg/Dcy0s0o+DDWwJt1nYEVjNEuAMVTKxVrRtC4WBaRELnMWMpDp4bL8\n",
    "jgXc7wTs6bH4OVzv8p2KzrwRJikqym3xSowIrg2A/wbcf3lX2ua3n/DDcH8F3P85gFdhSE9ppRNF\n",
    "sYKIV1clTuR5NF1o66af0fgt1wLpODYm0DoshkJI+u089oRG1SICuoiXp1Y1j1dEyr1ppZgO0zQa\n",
    "aa3YgoicG04Ndyxg9u0mhYKGIoshMVDEdSSIossZKtQ4K2fV2g8tX3DKL67JtNtedxhS+jXk/DJ4\n",
    "3iPMM32Hmhb2oOi7U0ZaAAVSQORgdcOH1hR5zWJRN4IAARY4ZwgKWpYj6AW00EJACIWAvmwcWwMu\n",
    "QwKuTWNb3oda7UJfPlv2b1XNkws7rRHg0pkXQXHsPiYRyVQyXetw7l+DpXfvxLTbT9gHwFkoX4RR\n",
    "uBPhgtwvbsv1oPkM9oOQoMq8ObKLG3tjqhKGWhfPVCV+FLRHLaegJ12P9UIUAizaxmegxiUqhstn\n",
    "uc3lst7yHHcsANxZ8o6y6aNDSJVBXfZCCShmkk45pcKDQJxBzF9cvuDke2eMezLMrgTwzK5NgPPx\n",
    "4RYJmBxRP9xUY9Ms4QnkWhKN/khNJC1EEFilXyxLlzRGAxqrouFRRKXgcK6ZBSsLateR2fVwFFwZ\n",
    "zpBRhvLcerwo0h0LAN8ugEO+SEIz+J2ZRNOmSOmkoEVZHOcRphe/tGP5gpP/oGPcrT+zL+CXwf2Z\n",
    "gUJpWiiB9K9Tbg8ENLMXcafJGivT1io30UcpWOEPG4KzfGbWgMJ8h5TGcXm2PiL30LrKtGkqjbWj\n",
    "Jjkga8lFq8kwVt/p64Pu9q0En+4MBjHumL8ag1II1NZzmjCaqGpC9c14ob0RoH+kY9xtrxswDJdi\n",
    "ys+PhyUImGfY1VxqtkQDYK41KumpgQEOJocJyghCumNimgIhVwZyz0HkQ2XOiJUpUFPzjWRaZLFQ\n",
    "zaSXOQZZv5pOBTkqbFXzElABC9M1hgL9g8piOkmAcN6cXJtnNBasmgi7HzZ8sqck3oBpPLKLIwfZ\n",
    "vcNANsydEHyetVDfxnP1Nz9T4k/in6PBNzXfM69+Z0oQL7PGFGZEGLsF4+u5C/nqAQbwleQlkSLm\n",
    "VTW1s25MkjgTH99K8PzVDmzk3BjVDXX+ufkeGOLteZGzEwRaNPZPlrefeM9swjM6BpBZ08xEa72N\n",
    "95//n0HxnFkkRgfRhSGGHq6vFRMGgEDTyHk7BURoKEya0spiwsO6uIAs5aS3+QKJkt402QYMw18m\n",
    "pGEZebyvI1j7o03UESv3Gth1JgtYCH/p13b0uO11rwT8BYHq4vz6QLx1wO46V0BsIZzC/W4blyDk\n",
    "WKcgOYIE9enh66oQae1xlFdakVFKM01vxT1TLeUQnHhDnJoLzt7ckJpJ9b2ct1igr9uhV9+Ulj/4\n",
    "plUAV3WZFd0xoxl+QJx6bsejoCmV8ngwA/J0PfpxcixwsakndHBOhaTeN8ykCJKO+JvmGmJWvfdN\n",
    "ASzQGNglJyp9Ax2KT5s34ur9wxx7M6lMKJNJfL7AAxJGwFr2SunY3+9SgDFVnq5oDEqifSqp9WZE\n",
    "f3GMNlhU2oSRAJCG/9stIqVntUR/tfe6NzsyN7UgSUiuplkbc3ZiHnpBMjTwQIZGwL5mSNMj2MUi\n",
    "yBECADQBoECr1lHAIheZm5nk/8NXo6BP0s1zq3bMM15lfZc05qXhisZVgeBRVYDEb/Q3JFqIaCOU\n",
    "nlMWc1fHvDwd1CVdqRV8IKKxCGAZpOaWodCM/NyUdRqUZMuwmOEQPPVR4kuj3ua6T6DXPIKfeHPS\n",
    "fI66lkGEkMdHdo95KGKPgkla702/+31I6Y8a89yvQ/ny22abI7OAtkDd/xYpKzKbN1KmGh8s3vDj\n",
    "t/3MZjj2bcGzEE/TV3QJaq7Y+kaidGhUND0YMglqI9Pq85lJ3CYok9pIN9Jp1Ow3nzPiSgF19OFz\n",
    "v6sKMBc0bUqKBAM/j2sut8N23B/MWz73LRMs/Z82GdC+uUoXK46XQEXjriTZhsiG74TgDmrghLGY\n",
    "iTlSLbKSWxzHpnV8yEmkn0SMPKAAhjnhVCMDLddniFwi56wCM6kJFqao1g5KL2o5BG3Wv8dVRCIc\n",
    "JJUCk1mTMUfskygmM5hXz/5YOFCF13yIMIlomhgtDLwBfYpu/XJ0oUfO+4VvzD5rBec9vQSuSRav\n",
    "64k+FN6mmqbIO3b3Q2icSnI8q65bwoa2A6jXHn6mQhGJ+TrXKAham5LpUuiS3AXMiMCwMVefs8x1\n",
    "Jwy/z0cL5i2f+5ZPw+y64oemxkQ6UWk/6Fr4qDnKxMhs5J0/s2QN+ub2m3NrVVmddWR/rIUF/FsZ\n",
    "qyCmi9vE5ykQYtigoQQ1idLO8yaGRPO38KKh4PkboCZBx/W7bzvUazNTyaGC1hIT77Ety4EfNKgD\n",
    "3M9sNTn1bWhMUCIFKqLHFScf/hPw7utf0AhkqaG6CHB5L5F0EltbCCaZk+uZ5N4hsZAsiAlheJ0w\n",
    "vGNcbhkTNWls7VBfpfGfZlE81xcEKHOsjxk9NxrPn8tFcFK6CrMUY8e85fPe+r/g+erS4azZjdSY\n",
    "GYvNTYIiEW3N7xEYwNF9U4sGoWqidX+CnsuHzlMzR3ywrmXQRYgg73KhZgnxBvF9LGdpBkY1Xv3R\n",
    "HM1Sc8ISiL/TZ1P0Teuim0cIqjQQLzfisRHu77At13Tgode8Ms7s0lGdJnJRs4ckoQn7eWPV0m5Q\n",
    "CFzMjsRt6j+AhiTVVDIpQPMSx/U2FAaa/9yuiWwImhVQwKM51KCWmN7QGAI69BmmoAFmbkPWQlMM\n",
    "VFAmrqrDHNhuW665eUbEnZm3fN5b/xjwDwBoTOs2XpAp9ccnRCcyH2JuuvoAU/yo9egqJJAbSGbS\n",
    "3z1Ybr6QhKT0x1rElFVaYlhIcD2188NyaIoqt/NCKyhg3uI30on5x8izyrwmAqvxnPp0BuYqjO4f\n",
    "AXzrnE9rMg8Als8/cSty/p0OXWljT7xPE+hfj8jPw8ije+kOmaRARcERTIgukqdxnprnTtO8wvCM\n",
    "9ooMa2YptGvs51V/C/Smscs00fzJ/+daT589jwMpH9pOou4jwikTkDQBns+2Lde83ZZW5lu2ds28\n",
    "uuB/A/dLupvoj/rEWCQX1kIOs/JqqI55Qu8ABmqeDU0zgXaPJJoffnBViGZFswiK6HcDHBFooEl4\n",
    "aCzavES2fI400+5AvqjCQBJInMqmJK4hsk2VftpAO8z83jRmpOE0W1p53675sxvmLZ9/4gTPbwL8\n",
    "XHBbTZiuhO6Vv2ivtepeb5jl1VA6KImguRCkN1Vgopn6PBccawxhvEn/BbTYLszXDHIHUhbkGmGD\n",
    "mPqowtc5dN84n4OVDsfOn2lBNWpyMyTNzwvKzAA+jsWm59mWa3b53bkcu33T7fIFp9wP4N1bTv/Y\n",
    "J2DpvyCPz+/MpCR1Tb4lK76MHrLIGBbXtIQ0mlkmTJ/7A/VD04yJg5hQdnsRQDCvyevDp6HPuJDA\n",
    "4wNVe8UsEq3SpLKqDjRzP9hsF2zVWAIwmzFXqxXT9BcwuxzAdjtsxy0PxrSHxDyO5e0nX7vl9N89\n",
    "BEgvhftbAX8VgKdQIt3Lq33L/lMBDRHIayAKRCGSqkImAD3TFDoHEwW0kDGT9L2oBho+gWHYEeBh\n",
    "sWi9MBQSZUDsfvW2VgIJIuMQskWLcRXR8hmAZqYZzxZmOdwfwDR9F8C9SOkGW1r+y4fKMB0P+QXh\n",
    "y9tPygCuqD/YctrHnuh5/DEz7GlW3nhbHrq+PTaXLVaFFvmvu8l0E2UMYRglUomrCDE6r6qTV+bT\n",
    "XBWze4U97/Lffvhk+fsxHvGr+ZcvOPl+AF992Be6l6B+WDTzq8XOMCVjCyOUOdos1OUE0cy4zv0P\n",
    "eOwGbT5GQ512Za/2AAAGk0lEQVR2OO4ZGKH/UShOfxdZixpzAQ3QRIqL6aq5v/2HNdb96fwrr34F\n",
    "3C/baRNI53/q79i5RGbl5gcJRgABQESh4HW3I093xHxd2kv8FNegIQGArg2ReV7W/SLQnmjuT7cX\n",
    "XrXjsaVeP9b/62imsTl7LbQqDGeQ2qW9rOQkycDYl+C9CdXCMXAggAM7eE4NjS1WRM4AWDW3es9x\n",
    "td2b3+MwocVzPSredz3JCGyE2eQGQaBVxiMGm2bmEQ2SR6uhN3PK7mOgbhARwKNF4C6LgYY0x1W5\n",
    "t68RlqDX1s7k13lih5CvuxVbf+Ypk9SfsUJBItGE6WZ65hKZ+1ToD8yakrw3icyBRnNT6lNs9JXU\n",
    "NveyvUtrl5C5w+dKqLDOYwMAC9NT1jSA2580Oa1EjJTS2ALmlErHlTID9Th7JSN88AZgmDXRF5Jq\n",
    "Wajrz0G/b0IFjvFdtGesv+atv8/TLEPEc9REOYd5zAgnagDNrjNDM5nRGzk086iM7zrMpMkpdqJK\n",
    "vbKbU2NRQ7z4lOerSd0A1dsYs6lMYgaCCFELrgos6F/4uZpLVhk08cuhQMhQvy2lfqbfIMJMUNsj\n",
    "cTeGRY4LDW0bFhm32NTuP6/9rcNYf+YBaBCdYEUaf0ikaI+QGhlfREPma8CulXXdr85qNFAB0GpD\n",
    "lgGOohK+imH4VeR8oB161b4YV/fGlI9DnkohNFJh6NdfKgQ/AGZTW/uGRZ/MjRqcNW2wVEQs59q+\n",
    "gIoyB9m0QfOmYCVJrKjZGGvmcKgvIcAEGFZhdrQdcuU1XKkdevV3AVzuf/aiQ5HzRUjp+NB83XK8\n",
    "QWNjMiwVrLXyDNC1FnK/OZFp9t7XAdJdVf+eo1c1qTw/kGdq8yxq/S8N71fGdUs+bMf3AbwdZndj\n",
    "sUkajAQo/UCECu5TfZVHe/goflauRlGTCBGI/dkKSHgNzaXWzroYTyr9+jIAfU2w++/tbtl22I6/\n",
    "wTRd0Xp5INmetCFmcwN8nt/XvZ4wsiJSzQYEkqOdQ7MaxUuaSumvpK/TnpfwaeIvQ+MBwO+1Q/7k\n",
    "9gdfut8Qr9HXtdInr/PYAObZtyNmA1qKS7c/aexGLQlGQNJqEo8FcrWdi6xw6ZWEZEyMgOWH/fqX\n",
    "7P3gS7cf7RLpIWAJbSHrNzbCbH4Znr8evfpEfFrCGdQMQpjkLTaMzIYyCYIy69BOLrO+Z5MhhrvB\n",
    "84t3u+xrj0wAjgqB0op/ue/du7v+sRjrzjx7zmUO2MVdjyT7Q7gnnuYsDe0ryRTSR2c0FKrLXRgC\n",
    "VOSq/nGU6reWobJv9+uO/qFdLtz9l5Hzc7rNpYCGLd94lEn1oGNj4jzDeRiG73WxlrYR6LtTmDCm\n",
    "BmkQP++P0ewJMygEL9oyr2kwCozZMwH/rK8ccZBO6StHJP/8Ue9GSmfvFEMyP+r5S3b4n/75Y0ix\n",
    "Ncf6Z1Pr8D9/5RkYxw/0mxGtT5kB0jAk8eFik/SPiG8EehPLlxPoFuac+1ogEwEAanvgfUjpapjd\n",
    "gGl6KoAjYPbj8ebZiCnRwg/D6ba0csFjRqxdjI1j3s3HLmB2NWCHRygQucO6rD53KIyaSOiIJgKF\n",
    "As3EMl/qKHOPYvKY01TgpALSNRMxeSCC1HKnfwzgWFtaXne4uUHpMcCed/mI7McC/tnQgvCD9f8B\n",
    "asTfjWML4COrwmBZ0l1R2/NWr1NNBXrww7+jIq/t+DO/GUjX/wbu/3IjGAdsIPMAwA6+/F64vwZm\n",
    "H44QAOjLQpF+8p7w1AYWUMlUoCWcu9hLEWZifNfQbAAXVvA5h7THq8bBrgKwZEesfPPRpcpDHxtm\n",
    "NufDb3z5v4bZmQD+cSMS0IUCWkvr+lG8wfcI0tFMJzvRtD+FrRgRuM+Tzt7/EOWaZZidBc//3pZW\n",
    "NrRF7XHDPADwm47ZBPeTYHYGzH5izdoc2x9iP1xq7RDUIiagqc3Zm0YpwGGCW30cINoOFZLvIaWP\n",
    "w/Ov25bl+XtlNmQ8rpjH4Te+fADwZri/A8DhAPbYSdvU5AHS1ETtmyQmNOkFTTMhGNCFGLw2Kh7+\n",
    "ZQC/hewftSNW7lp7xRszHpfM0+E3vOSJsHQ4zI6C+4uR8xEw7BMJaIYE829GjpeX1oCeGsgsjVbY\n",
    "yeSUvg/3GwFcC7NrMY7XArjJjljx3Sxxw8bjnnnz4dcdnWA4GJZ+GsD+yHlfmG0GsBmeNwPYF47N\n",
    "SGkzxtXN1UfdDUv3IOe7Ybgb7vfUdNY9MLsbwF8j588DuMkO/9PV3d3/8TT+P2x6AX5Riia7AAAA\n",
    "AElFTkSuQmCC\n",
    "\"\n",
    "     style=\"display:block;margin:auto;width:10%\"/>\n",
    "<br>\n",
    "\n",
    "<div style=\"text-align:center; font-size:200%;\">\n",
    " <b>Adventure Game: Observer</b>\n",
    "</div>\n",
    "<br/>\n",
    "<div style=\"text-align:center;\">Dr. Matthias Hölzl</div>\n",
    "<br/>\n",
    "<!-- 07 Adventure Game Observer.ipynb -->\n",
    "<!-- python_courses/slides/module_500_solid_grasp/topic_450_adventure_observer.py -->"
   ]
  },
  {
   "cell_type": "markdown",
   "id": "6ba68b8310bc4544",
   "metadata": {
    "lang": "de",
    "slideshow": {
     "slide_type": "subslide"
    },
    "tags": [
     "subslide"
    ]
   },
   "source": [
    "\n",
    "## Adventure Version 4\n",
    "\n",
    "- OCP mit Strategy Pattern\n",
    "- Debug-Ausgaben mit Print Statement in `Player.take_turn()`"
   ]
  },
  {
   "cell_type": "markdown",
   "id": "bff84ce52499f682",
   "metadata": {
    "lang": "de",
    "slideshow": {
     "slide_type": "subslide"
    },
    "tags": [
     "subslide"
    ]
   },
   "source": [
    "\n",
    "### Für wen wollen wir (potenziell) Information ausgeben?\n",
    "\n",
    "- Spieler\n",
    "- Zuschauer\n",
    "- Entwickler (Logging)"
   ]
  },
  {
   "cell_type": "markdown",
   "id": "27f02cebe3625605",
   "metadata": {
    "lang": "de",
    "slideshow": {
     "slide_type": "subslide"
    },
    "tags": [
     "subslide"
    ]
   },
   "source": [
    "\n",
    "### Information pro Spieler\n",
    "\n",
    "- Zug hat begonnen\n",
    "- Mögliche Aktionen für den Spieler\n",
    "- Beginn einer Aktion\n",
    "- Ende einer Aktion\n",
    "- Aktion konnte nicht ausgeführt werden\n",
    "- Zug ist zu Ende"
   ]
  },
  {
   "cell_type": "markdown",
   "id": "5cf86530dfeda2f8",
   "metadata": {
    "lang": "de",
    "slideshow": {
     "slide_type": "subslide"
    },
    "tags": [
     "subslide"
    ]
   },
   "source": [
    "\n",
    "### Information pro Spiel\n",
    "\n",
    "- Spieler ist dem Spiel beigetreten\n",
    "- Spiel hat begonnen\n",
    "- Spiel ist zu Ende\n",
    "- Ergebnis des Spiels (Gewonnen/Verloren, Zusammenfassung der Ereignisse)\n",
    "- Ein Fehler ist aufgetreten"
   ]
  },
  {
   "cell_type": "code",
   "execution_count": null,
   "id": "7749676b24cb4a5d",
   "metadata": {
    "slideshow": {
     "slide_type": "subslide"
    },
    "tags": [
     "keep",
     "subslide"
    ]
   },
   "outputs": [],
   "source": [
    "from dataclasses import dataclass, field\n",
    "from typing import Callable"
   ]
  },
  {
   "cell_type": "code",
   "execution_count": null,
   "id": "ceb0b74203f82a18",
   "metadata": {
    "lines_to_next_cell": 2,
    "tags": [
     "keep"
    ]
   },
   "outputs": [],
   "source": [
    "from action_v4 import Action, SkipTurnAction\n",
    "from location_v4 import Location, LocationDescriptions\n",
    "from pawn_v4 import Pawn\n",
    "from player_v4 import Player, interactive_action_strategy, random_action_strategy\n",
    "from simple_locations import simple_locations\n",
    "from world_factory_v4 import WorldFactory\n",
    "from world_v4 import World"
   ]
  },
  {
   "cell_type": "code",
   "execution_count": null,
   "id": "258dc01728feb788",
   "metadata": {
    "slideshow": {
     "slide_type": "subslide"
    },
    "tags": [
     "start",
     "subslide"
    ]
   },
   "outputs": [],
   "source": [
    "@dataclass\n",
    "class Player:\n",
    "    name: str\n",
    "    pawn: Pawn\n",
    "    select_action: Callable[[\"Player\"], Action] = random_action_strategy\n",
    "\n",
    "    @property\n",
    "    def location(self) -> Location:\n",
    "        return self.pawn.location\n",
    "\n",
    "    @location.setter\n",
    "    def location(self, new_location: Location):\n",
    "        self.pawn.location = new_location\n",
    "\n",
    "    @property\n",
    "    def description(self) -> str:\n",
    "        return f\"{self.name} at {self.location.name}\"\n",
    "\n",
    "    @property\n",
    "    def actions(self) -> list[Action]:\n",
    "        return [*self.pawn.actions, SkipTurnAction()]\n",
    "\n",
    "    def take_turn(self):\n",
    "        action = self.select_action(self)\n",
    "        print(f\"{self.description} performs: {action.description}\")\n",
    "        action.perform(self)"
   ]
  },
  {
   "cell_type": "code",
   "execution_count": null,
   "id": "49c19719050f858b",
   "metadata": {
    "slideshow": {
     "slide_type": "subslide"
    },
    "tags": [
     "keep",
     "subslide"
    ]
   },
   "outputs": [],
   "source": [
    "action_strategies = {\n",
    "    \"interactive\": interactive_action_strategy,\n",
    "    \"random\": random_action_strategy,\n",
    "}"
   ]
  },
  {
   "cell_type": "code",
   "execution_count": null,
   "id": "1348c433015a2dfb",
   "metadata": {
    "lines_to_next_cell": 2,
    "tags": [
     "keep"
    ]
   },
   "outputs": [],
   "source": [
    "def create_player(\n",
    "    world: World,\n",
    "    name: str,\n",
    "    location: str | Location | None,\n",
    "    action_strategy: str | Callable[[Player], Action] | None,\n",
    "):\n",
    "    if location is None:\n",
    "        location = world.initial_location\n",
    "    elif isinstance(location, str):\n",
    "        location = world.locations[location]\n",
    "    if action_strategy is None:\n",
    "        action_strategy = random_action_strategy\n",
    "    elif isinstance(action_strategy, str):\n",
    "        action_strategy = action_strategies[action_strategy]\n",
    "    pawn = Pawn(name, location)\n",
    "    player = Player(name, pawn, action_strategy)\n",
    "    return player"
   ]
  },
  {
   "cell_type": "code",
   "execution_count": null,
   "id": "f1e3fa0b4a71f452",
   "metadata": {
    "lines_to_next_cell": 2,
    "slideshow": {
     "slide_type": "subslide"
    },
    "tags": [
     "keep",
     "subslide"
    ]
   },
   "outputs": [],
   "source": [
    "@dataclass\n",
    "class Game:  # noqa: F811\n",
    "    location_descriptions: LocationDescriptions\n",
    "    players: list[Player] = field(default_factory=list)\n",
    "    world: World = field(init=False)\n",
    "\n",
    "    def __post_init__(self):\n",
    "        self.world = WorldFactory.create(self.location_descriptions)\n",
    "\n",
    "    def add_player(self, name: str, location, action_strategy=None):\n",
    "        player = create_player(self.world, name, location, action_strategy)\n",
    "        self.players.append(player)\n",
    "        self.note_player_joined(player)\n",
    "\n",
    "    def play_round(self):\n",
    "        self.note_round_started()\n",
    "        for player in self.players:\n",
    "            player.take_turn()\n",
    "        self.note_round_ended()\n",
    "\n",
    "    def play_game(self):\n",
    "        self.note_game_started()\n",
    "        for _ in range(3):\n",
    "            self.play_round()\n",
    "        self.note_game_ended()\n",
    "\n",
    "    def note_player_joined(self, player: Player):  # noqa\n",
    "        print(f\"Player {player.name} has joined the game.\")\n",
    "\n",
    "    def note_game_started(self):  # noqa\n",
    "        print(\"Game started.\")\n",
    "\n",
    "    def note_game_ended(self):  # noqa\n",
    "        print(\"Game ended.\")\n",
    "\n",
    "    def note_round_started(self):  # noqa\n",
    "        print(\"Round started.\")\n",
    "\n",
    "    def note_round_ended(self):  # noqa\n",
    "        print(\"Round ended.\")"
   ]
  },
  {
   "cell_type": "code",
   "execution_count": null,
   "id": "b4976a87fed7c45c",
   "metadata": {
    "slideshow": {
     "slide_type": "subslide"
    },
    "tags": [
     "subslide"
    ]
   },
   "outputs": [],
   "source": []
  },
  {
   "cell_type": "code",
   "execution_count": null,
   "id": "0843d04491c3646b",
   "metadata": {},
   "outputs": [],
   "source": []
  },
  {
   "cell_type": "code",
   "execution_count": null,
   "id": "9136b22887292be7",
   "metadata": {
    "slideshow": {
     "slide_type": "subslide"
    },
    "tags": [
     "subslide"
    ]
   },
   "outputs": [],
   "source": []
  },
  {
   "cell_type": "markdown",
   "id": "252370c38f5d824d",
   "metadata": {
    "lang": "de",
    "slideshow": {
     "slide_type": "subslide"
    },
    "tags": [
     "subslide"
    ]
   },
   "source": [
    "\n",
    "## Probleme\n",
    "\n",
    "- Ausgabeformat ist fest im Code verankert\n",
    "- Detailgrad der Ausgabe ist fix\n",
    "- Keine Möglichkeit, Ausgaben in mehreren Formaten/auf mehreren Kanälen zu\n",
    "  erzeugen"
   ]
  },
  {
   "cell_type": "markdown",
   "id": "0f30b042e8e53659",
   "metadata": {
    "lang": "de",
    "slideshow": {
     "slide_type": "subslide"
    },
    "tags": [
     "subslide"
    ]
   },
   "source": [
    "\n",
    "## Lösungsansatz: Observer Pattern\n",
    "\n",
    "<ul>\n",
    "  <li>Das Observer Pattern ermöglicht die Entkopplung von Subjekt und Beobachter</li>\n",
    "  <li>Pub/Sub-System</li>\n",
    "  <li>Nur eine Art von Ereignis</li>\n",
    "  <li><code>notify(msg: str)</code> statt <code>print(msg)</code>?</li>\n",
    "  <li class=\"fragment\">\n",
    "    Nicht ideal: Wir würden gerne strukturierte Information ausgeben\n",
    "  </li>\n",
    "  <li class=\"fragment\">\n",
    "    <b>Wir können das Pattern an unsere Bedürfnisse anpassen</b>\n",
    "  </li>\n",
    "</ul>"
   ]
  },
  {
   "cell_type": "code",
   "execution_count": null,
   "id": "cda7f34ff3a3920c",
   "metadata": {
    "lines_to_next_cell": 2,
    "slideshow": {
     "slide_type": "subslide"
    },
    "tags": [
     "keep",
     "subslide"
    ]
   },
   "outputs": [],
   "source": [
    "class GameObserver:\n",
    "    def notify_player_joined(self, player: Player): ...\n",
    "\n",
    "    def notify_game_started(self): ...\n",
    "\n",
    "    def notify_game_ended(self): ...\n",
    "\n",
    "    def notify_round_started(self): ...\n",
    "\n",
    "    def notify_round_ended(self): ...\n",
    "\n",
    "    def notify_turn_started(self, player: Player): ...\n",
    "\n",
    "    def notify_turn_ended(self, player: Player): ...\n",
    "\n",
    "    def notify_action_selected(self, player: Player, action: Action): ..."
   ]
  },
  {
   "cell_type": "code",
   "execution_count": null,
   "id": "8e15da050ff1ef97",
   "metadata": {
    "lines_to_next_cell": 2,
    "slideshow": {
     "slide_type": "subslide"
    },
    "tags": [
     "keep",
     "subslide"
    ]
   },
   "outputs": [],
   "source": [
    "class DebugGameObserver(GameObserver):\n",
    "    def notify_player_joined(self, player: Player):\n",
    "        print(f\"DEBUG: Player {player.name} has joined the game.\")\n",
    "\n",
    "    def notify_game_started(self):\n",
    "        print(\"DEBUG: Game started.\")\n",
    "\n",
    "    def notify_game_ended(self):\n",
    "        print(\"DEBUG: Game ended.\")\n",
    "\n",
    "    def notify_round_started(self):\n",
    "        print(\"DEBUG: Round started.\")\n",
    "\n",
    "    def notify_round_ended(self):\n",
    "        print(\"DEBUG: Round ended.\")\n",
    "\n",
    "    def notify_turn_started(self, player: Player):\n",
    "        print(f\"DEBUG: Turn started for {player.name}.\")\n",
    "\n",
    "    def notify_turn_ended(self, player: Player):\n",
    "        print(f\"DEBUG: Turn ended for {player.name}.\")\n",
    "\n",
    "    def notify_action_selected(self, player: Player, action: Action):\n",
    "        print(f\"DEBUG: {player.name} performs: {action.description}\")"
   ]
  },
  {
   "cell_type": "code",
   "execution_count": null,
   "id": "207a280cac45e9e7",
   "metadata": {
    "lines_to_next_cell": 2,
    "slideshow": {
     "slide_type": "subslide"
    },
    "tags": [
     "keep",
     "subslide"
    ]
   },
   "outputs": [],
   "source": [
    "class CliObserver(GameObserver):\n",
    "    def notify_player_joined(self, player: Player):\n",
    "        print(f\"Player {player.name} has joined the game.\")\n",
    "\n",
    "    def notify_turn_started(self, player: Player):\n",
    "        print(f\"{player.name} is in {player.location.name}:\")\n",
    "        print(f\"{player.location.description}\")\n",
    "\n",
    "    def notify_action_selected(self, player: Player, action: Action):\n",
    "        print(f\"{player.name} performs: {action.description}\")"
   ]
  },
  {
   "cell_type": "code",
   "execution_count": null,
   "id": "42312f69c2f5a1ff",
   "metadata": {
    "slideshow": {
     "slide_type": "subslide"
    },
    "tags": [
     "start",
     "subslide"
    ]
   },
   "outputs": [],
   "source": [
    "@dataclass\n",
    "class Player:\n",
    "    name: str\n",
    "    pawn: Pawn\n",
    "    select_action: Callable[[\"Player\"], Action] = random_action_strategy\n",
    "\n",
    "    @property\n",
    "    def location(self) -> Location: return self.pawn.location\n",
    "    @location.setter\n",
    "    def location(self, new_location: Location): self.pawn.location = new_location\n",
    "    @property\n",
    "    def description(self) -> str: return f\"{self.name} at {self.location.name}\"\n",
    "    @property\n",
    "    def actions(self) -> list[Action]: return [*self.pawn.actions, SkipTurnAction()]\n",
    "\n",
    "    def take_turn(self):\n",
    "        self.note_turn_started()\n",
    "        action = self.select_action(self)\n",
    "        self.note_action_selected(action)\n",
    "        action.perform(self)\n",
    "        self.note_turn_ended()\n",
    "\n",
    "    def note_turn_started(self):\n",
    "        print(f\"Turn started for {self.name}.\")\n",
    "\n",
    "    def note_turn_ended(self):\n",
    "        print(f\"Turn ended for {self.name}.\")\n",
    "\n",
    "    def note_action_selected(self, action: Action):\n",
    "        print(f\"{self.name} performs: {action.description}\")"
   ]
  },
  {
   "cell_type": "code",
   "execution_count": null,
   "id": "18e8e0041cbc2974",
   "metadata": {
    "slideshow": {
     "slide_type": "subslide"
    },
    "tags": [
     "keep",
     "subslide"
    ]
   },
   "outputs": [],
   "source": [
    "@dataclass\n",
    "class Game:\n",
    "    location_descriptions: LocationDescriptions\n",
    "    players: list[Player] = field(default_factory=list)\n",
    "    world: World = field(init=False)\n",
    "    observers: list[GameObserver] = field(default_factory=list)\n",
    "\n",
    "    def __post_init__(self):\n",
    "        self.world = WorldFactory.create(self.location_descriptions)\n",
    "\n",
    "    def add_player(self, name, location, action_strategy=None):\n",
    "        player = create_player(self.world, name, location, action_strategy)\n",
    "        self.players.append(player)\n",
    "        for observer in self.observers: player.attach_observer(observer)\n",
    "        self.note_player_joined(player)\n",
    "\n",
    "    def play_round(self):\n",
    "        self.note_round_started()\n",
    "        for player in self.players: player.take_turn()\n",
    "        self.note_round_ended()\n",
    "\n",
    "    def play_game(self):\n",
    "        self.note_game_started()\n",
    "        for _ in range(3): self.play_round()\n",
    "        self.note_game_ended()\n",
    "\n",
    "    def attach_observer(self, observer: GameObserver):\n",
    "        self.observers.append(observer)\n",
    "        for player in self.players:\n",
    "            player.attach_observer(observer)\n",
    "\n",
    "    def note_player_joined(self, player: Player):\n",
    "        for observer in self.observers: observer.notify_player_joined(player)\n",
    "    def note_game_started(self):\n",
    "        for observer in self.observers: observer.notify_game_started()\n",
    "    def note_game_ended(self):\n",
    "        for observer in self.observers: observer.notify_game_ended()\n",
    "    def note_round_started(self):\n",
    "        for observer in self.observers: observer.notify_round_started()\n",
    "    def note_round_ended(self):\n",
    "        for observer in self.observers: observer.notify_round_ended()"
   ]
  },
  {
   "cell_type": "code",
   "execution_count": null,
   "id": "01e3840db472f4a8",
   "metadata": {
    "slideshow": {
     "slide_type": "subslide"
    },
    "tags": [
     "subslide"
    ]
   },
   "outputs": [],
   "source": []
  },
  {
   "cell_type": "code",
   "execution_count": null,
   "id": "43f8dfb6084ef853",
   "metadata": {},
   "outputs": [],
   "source": []
  },
  {
   "cell_type": "code",
   "execution_count": null,
   "id": "7c61527dc5da8602",
   "metadata": {},
   "outputs": [],
   "source": []
  },
  {
   "cell_type": "code",
   "execution_count": null,
   "id": "d51883fbca66d5df",
   "metadata": {},
   "outputs": [],
   "source": []
  },
  {
   "cell_type": "code",
   "execution_count": null,
   "id": "9e4e52ea4570485f",
   "metadata": {
    "slideshow": {
     "slide_type": "subslide"
    },
    "tags": [
     "subslide"
    ]
   },
   "outputs": [],
   "source": []
  },
  {
   "cell_type": "code",
   "execution_count": null,
   "id": "af180c2c9c3f2436",
   "metadata": {
    "slideshow": {
     "slide_type": "subslide"
    },
    "tags": [
     "subslide"
    ]
   },
   "outputs": [],
   "source": []
  },
  {
   "cell_type": "code",
   "execution_count": null,
   "id": "aecc8fe0a0d5aefd",
   "metadata": {},
   "outputs": [],
   "source": []
  },
  {
   "cell_type": "markdown",
   "id": "42869b5910b54720",
   "metadata": {
    "lang": "de",
    "slideshow": {
     "slide_type": "subslide"
    },
    "tags": [
     "subslide"
    ]
   },
   "source": [
    "\n",
    "## Workshop: Observer Pattern für die Bibliothesverwaltung\n",
    "\n",
    "- In einem der letzten Videos hatten wir eine Bibliotheksverwaltung implementiert\n",
    "- Im Folgenden ist der entsprechende Code nochmal angegeben\n",
    "- Fügen Sie einen Observer hinzu, der die Ereignisse in der Bibliothek\n",
    "  auf der Standardausgabe ausgibt"
   ]
  },
  {
   "cell_type": "markdown",
   "id": "ea331ce514c2dbbb",
   "metadata": {
    "lang": "de",
    "slideshow": {
     "slide_type": "subslide"
    },
    "tags": [
     "subslide"
    ]
   },
   "source": [
    "\n",
    "Nach hinzufügen des Observers sollte die Ausgabe fúr den\n",
    "Beispielcode in etwa so aussehen:\n",
    "\n",
    "```\n",
    "Book added: Book 1 by Author 1 (ISBN: ISBN1)\n",
    "Book added: Book 2 by Author 2 (ISBN: ISBN2)\n",
    "Member added: John Doe (ID: M001)\n",
    "Member added: Jane Smith (ID: M002)\n",
    "Book borrowed: Member M001 borrowed book with ISBN ISBN1\n",
    "Book borrowed: Member M001 borrowed book with ISBN ISBN2\n",
    "Book borrowed: Member M002 borrowed book with ISBN ISBN1\n",
    "Error: Book with ISBN ISBN2 is not available\n",
    "Book returned: Member M001 returned book with ISBN ISBN2\n",
    "Book borrowed: Member M002 borrowed book with ISBN ISBN2\n",
    "Error: Book with ISBN ISBN3 is not available\n",
    "```"
   ]
  },
  {
   "cell_type": "code",
   "execution_count": null,
   "id": "f626f4922516a132",
   "metadata": {
    "slideshow": {
     "slide_type": "subslide"
    },
    "tags": [
     "keep",
     "subslide"
    ]
   },
   "outputs": [],
   "source": [
    "from dataclasses import dataclass, field  # noqa"
   ]
  },
  {
   "cell_type": "code",
   "execution_count": null,
   "id": "ce8602b4a10e101a",
   "metadata": {
    "tags": [
     "keep"
    ]
   },
   "outputs": [],
   "source": [
    "@dataclass\n",
    "class BookInfo:\n",
    "    title: str\n",
    "    authors: list[str]\n",
    "    isbn: str\n",
    "    num_copies: int = 1"
   ]
  },
  {
   "cell_type": "code",
   "execution_count": null,
   "id": "90a41e69e1569431",
   "metadata": {
    "slideshow": {
     "slide_type": "subslide"
    },
    "tags": [
     "keep",
     "subslide"
    ]
   },
   "outputs": [],
   "source": [
    "@dataclass\n",
    "class MemberInfo:\n",
    "    name: str\n",
    "    address: str\n",
    "    member_id: str"
   ]
  },
  {
   "cell_type": "code",
   "execution_count": null,
   "id": "dc6e62071c864484",
   "metadata": {
    "slideshow": {
     "slide_type": "subslide"
    },
    "tags": [
     "keep",
     "subslide"
    ]
   },
   "outputs": [],
   "source": [
    "@dataclass\n",
    "class BookInventory:\n",
    "    books: dict[str, BookInfo] = field(default_factory=dict)\n",
    "\n",
    "    def add_book(self, book: BookInfo):\n",
    "        if book.isbn in self.books:\n",
    "            self.books[book.isbn].num_copies += book.num_copies\n",
    "        else:\n",
    "            self.books[book.isbn] = book\n",
    "\n",
    "    def is_available(self, isbn: str) -> bool:\n",
    "        return isbn in self.books and self.books[isbn].num_copies > 0"
   ]
  },
  {
   "cell_type": "code",
   "execution_count": null,
   "id": "92b9045d458a4b17",
   "metadata": {
    "slideshow": {
     "slide_type": "subslide"
    },
    "tags": [
     "keep",
     "subslide"
    ]
   },
   "outputs": [],
   "source": [
    "@dataclass\n",
    "class MemberRegistry:\n",
    "    members: dict[str, MemberInfo] = field(default_factory=dict)\n",
    "\n",
    "    def add_member(self, member: MemberInfo):\n",
    "        self.members[member.member_id] = member"
   ]
  },
  {
   "cell_type": "code",
   "execution_count": null,
   "id": "007aa706ad40b6ea",
   "metadata": {
    "slideshow": {
     "slide_type": "subslide"
    },
    "tags": [
     "keep",
     "subslide"
    ]
   },
   "outputs": [],
   "source": [
    "@dataclass\n",
    "class RentalRegistry:\n",
    "    rentals: dict[str, list[str]] = field(default_factory=dict)\n",
    "\n",
    "    def borrow_book(self, member_id: str, isbn: str, book_inventory: BookInventory):\n",
    "        if book_inventory.is_available(isbn):\n",
    "            if member_id not in self.rentals:\n",
    "                self.rentals[member_id] = []\n",
    "            if isbn not in self.rentals[member_id]:\n",
    "                self.rentals[member_id].append(isbn)\n",
    "                book_inventory.books[isbn].num_copies -= 1\n",
    "\n",
    "    def return_book(self, member_id: str, isbn: str, book_inventory: BookInventory):\n",
    "        if member_id in self.rentals and isbn in self.rentals[member_id]:\n",
    "            self.rentals[member_id].remove(isbn)\n",
    "            book_inventory.books[isbn].num_copies += 1\n",
    "\n",
    "    def get_member_rentals(self, member_id: str) -> list[str]:\n",
    "        return self.rentals.get(member_id, [])\n",
    "\n",
    "    def get_all_rentals(self) -> dict[str, list[str]]:\n",
    "        return self.rentals"
   ]
  },
  {
   "cell_type": "code",
   "execution_count": null,
   "id": "614882e3801f740d",
   "metadata": {
    "slideshow": {
     "slide_type": "subslide"
    },
    "tags": [
     "keep",
     "subslide"
    ]
   },
   "outputs": [],
   "source": [
    "@dataclass\n",
    "class Library:\n",
    "    book_inventory: BookInventory = field(default_factory=BookInventory)\n",
    "    member_registry: MemberRegistry = field(default_factory=MemberRegistry)\n",
    "    rental_registry: RentalRegistry = field(default_factory=RentalRegistry)\n",
    "\n",
    "    def add_book(self, title: str, authors: list[str], isbn: str, num_copies: int = 1):\n",
    "        self.book_inventory.add_book(BookInfo(title, authors, isbn, num_copies))\n",
    "\n",
    "    def add_member(self, name: str, address: str, member_id: str):\n",
    "        self.member_registry.add_member(MemberInfo(name, address, member_id))\n",
    "\n",
    "    def borrow_book(self, member_id: str, isbn: str):\n",
    "        self.rental_registry.borrow_book(member_id, isbn, self.book_inventory)\n",
    "\n",
    "    def return_book(self, member_id: str, isbn: str):\n",
    "        self.rental_registry.return_book(member_id, isbn, self.book_inventory)\n",
    "\n",
    "    def is_book_available(self, isbn: str) -> bool:\n",
    "        return self.book_inventory.is_available(isbn)\n",
    "\n",
    "    def get_member_rentals(self, member_id: str) -> list[str]:\n",
    "        return self.rental_registry.get_member_rentals(member_id)\n",
    "\n",
    "    def get_all_rentals(self) -> dict[str, list[str]]:\n",
    "        return self.rental_registry.get_all_rentals()"
   ]
  },
  {
   "cell_type": "code",
   "execution_count": null,
   "id": "6a18f23d6089fcd9",
   "metadata": {
    "tags": [
     "keep"
    ]
   },
   "outputs": [],
   "source": [
    "library = Library()"
   ]
  },
  {
   "cell_type": "code",
   "execution_count": null,
   "id": "ac4d9fd437b86707",
   "metadata": {
    "tags": [
     "keep"
    ]
   },
   "outputs": [],
   "source": [
    "library.add_book(\"Book 1\", [\"Author 1\"], \"ISBN1\", 2)\n",
    "library.add_book(\"Book 2\", [\"Author 2\"], \"ISBN2\", 1)"
   ]
  },
  {
   "cell_type": "code",
   "execution_count": null,
   "id": "61695ca4217ba319",
   "metadata": {
    "tags": [
     "keep"
    ]
   },
   "outputs": [],
   "source": [
    "library.add_member(\"John Doe\", \"123 Main St\", \"M001\")\n",
    "library.add_member(\"Jane Smith\", \"456 Elm St\", \"M002\")"
   ]
  },
  {
   "cell_type": "code",
   "execution_count": null,
   "id": "a6fb82576c76f5ae",
   "metadata": {
    "tags": [
     "keep"
    ]
   },
   "outputs": [],
   "source": [
    "library.borrow_book(\"M001\", \"ISBN1\")\n",
    "library.borrow_book(\"M001\", \"ISBN2\")"
   ]
  },
  {
   "cell_type": "code",
   "execution_count": null,
   "id": "87c7a7fecb06add7",
   "metadata": {
    "tags": [
     "keep"
    ]
   },
   "outputs": [],
   "source": [
    "library.borrow_book(\"M002\", \"ISBN1\")\n",
    "library.borrow_book(\"M002\", \"ISBN2\")"
   ]
  },
  {
   "cell_type": "code",
   "execution_count": null,
   "id": "1166b27d9df84b22",
   "metadata": {
    "tags": [
     "keep"
    ]
   },
   "outputs": [],
   "source": [
    "library.return_book(\"M001\", \"ISBN2\")\n",
    "library.borrow_book(\"M002\", \"ISBN2\")\n",
    "library.borrow_book(\"M002\", \"ISBN3\")"
   ]
  },
  {
   "cell_type": "code",
   "execution_count": null,
   "id": "8a3bfbdcc39a5c04",
   "metadata": {
    "tags": [
     "keep"
    ]
   },
   "outputs": [],
   "source": [
    "library.get_member_rentals(\"M001\")"
   ]
  },
  {
   "cell_type": "code",
   "execution_count": null,
   "id": "4360b4eed1e4a19c",
   "metadata": {
    "tags": [
     "keep"
    ]
   },
   "outputs": [],
   "source": [
    "library.get_all_rentals()"
   ]
  },
  {
   "cell_type": "code",
   "execution_count": null,
   "id": "2d4e25c29313a3fd",
   "metadata": {
    "slideshow": {
     "slide_type": "subslide"
    },
    "tags": [
     "subslide"
    ]
   },
   "outputs": [],
   "source": []
  },
  {
   "cell_type": "code",
   "execution_count": null,
   "id": "9a7a20d59ec21f49",
   "metadata": {
    "slideshow": {
     "slide_type": "subslide"
    },
    "tags": [
     "subslide"
    ]
   },
   "outputs": [],
   "source": []
  }
 ],
 "metadata": {
  "kernelspec": {
   "display_name": "Python 3 (ipykernel)",
   "language": "python",
   "name": "python3"
  },
  "language_info": {
   "codemirror_mode": {
    "name": "ipython",
    "version": 3
   },
   "file_extension": ".py",
   "mimetype": "text/x-python",
   "name": "python",
   "nbconvert_exporter": "python",
   "pygments_lexer": "ipython3"
  }
 },
 "nbformat": 4,
 "nbformat_minor": 5
}
